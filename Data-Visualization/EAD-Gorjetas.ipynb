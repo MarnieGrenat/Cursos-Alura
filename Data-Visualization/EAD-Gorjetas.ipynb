{
 "cells": [
  {
   "cell_type": "code",
   "execution_count": 84,
   "id": "d7cb06ad",
   "metadata": {},
   "outputs": [],
   "source": [
    "import pandas as pd\n",
    "import seaborn as sns"
   ]
  },
  {
   "cell_type": "markdown",
   "id": "5af1bcd8",
   "metadata": {},
   "source": [
    "# Importando Base de Dados"
   ]
  },
  {
   "cell_type": "code",
   "execution_count": 72,
   "id": "953bcc4c",
   "metadata": {},
   "outputs": [],
   "source": [
    "data= pd.read_csv('tips.csv', sep=',')"
   ]
  },
  {
   "cell_type": "code",
   "execution_count": 73,
   "id": "3904cab5",
   "metadata": {},
   "outputs": [
    {
     "data": {
      "text/html": [
       "<div>\n",
       "<style scoped>\n",
       "    .dataframe tbody tr th:only-of-type {\n",
       "        vertical-align: middle;\n",
       "    }\n",
       "\n",
       "    .dataframe tbody tr th {\n",
       "        vertical-align: top;\n",
       "    }\n",
       "\n",
       "    .dataframe thead th {\n",
       "        text-align: right;\n",
       "    }\n",
       "</style>\n",
       "<table border=\"1\" class=\"dataframe\">\n",
       "  <thead>\n",
       "    <tr style=\"text-align: right;\">\n",
       "      <th></th>\n",
       "      <th>total_bill</th>\n",
       "      <th>tip</th>\n",
       "      <th>dessert</th>\n",
       "      <th>day</th>\n",
       "      <th>time</th>\n",
       "      <th>size</th>\n",
       "    </tr>\n",
       "  </thead>\n",
       "  <tbody>\n",
       "    <tr>\n",
       "      <th>0</th>\n",
       "      <td>16.99</td>\n",
       "      <td>1.01</td>\n",
       "      <td>No</td>\n",
       "      <td>Sun</td>\n",
       "      <td>Dinner</td>\n",
       "      <td>2</td>\n",
       "    </tr>\n",
       "    <tr>\n",
       "      <th>1</th>\n",
       "      <td>10.34</td>\n",
       "      <td>1.66</td>\n",
       "      <td>No</td>\n",
       "      <td>Sun</td>\n",
       "      <td>Dinner</td>\n",
       "      <td>3</td>\n",
       "    </tr>\n",
       "    <tr>\n",
       "      <th>2</th>\n",
       "      <td>21.01</td>\n",
       "      <td>3.50</td>\n",
       "      <td>No</td>\n",
       "      <td>Sun</td>\n",
       "      <td>Dinner</td>\n",
       "      <td>3</td>\n",
       "    </tr>\n",
       "    <tr>\n",
       "      <th>3</th>\n",
       "      <td>23.68</td>\n",
       "      <td>3.31</td>\n",
       "      <td>No</td>\n",
       "      <td>Sun</td>\n",
       "      <td>Dinner</td>\n",
       "      <td>2</td>\n",
       "    </tr>\n",
       "    <tr>\n",
       "      <th>4</th>\n",
       "      <td>24.59</td>\n",
       "      <td>3.61</td>\n",
       "      <td>No</td>\n",
       "      <td>Sun</td>\n",
       "      <td>Dinner</td>\n",
       "      <td>4</td>\n",
       "    </tr>\n",
       "  </tbody>\n",
       "</table>\n",
       "</div>"
      ],
      "text/plain": [
       "   total_bill   tip dessert  day    time  size\n",
       "0       16.99  1.01      No  Sun  Dinner     2\n",
       "1       10.34  1.66      No  Sun  Dinner     3\n",
       "2       21.01  3.50      No  Sun  Dinner     3\n",
       "3       23.68  3.31      No  Sun  Dinner     2\n",
       "4       24.59  3.61      No  Sun  Dinner     4"
      ]
     },
     "execution_count": 73,
     "metadata": {},
     "output_type": "execute_result"
    }
   ],
   "source": [
    "data.head()"
   ]
  },
  {
   "cell_type": "markdown",
   "id": "bad5dba8",
   "metadata": {},
   "source": [
    "# Alterar os nomes e valores para português"
   ]
  },
  {
   "cell_type": "markdown",
   "id": "38033b60",
   "metadata": {},
   "source": [
    "## Alterando labels"
   ]
  },
  {
   "cell_type": "code",
   "execution_count": 74,
   "id": "ce8777cb",
   "metadata": {},
   "outputs": [],
   "source": [
    "rename={'total_bill':'conta_total',\n",
    "    'tip':'gorjeta',\n",
    "    'dessert':'sobremesa',\n",
    "    'day':'dia',\n",
    "    'time':'horario',\n",
    "    'size':'clientes'}\n",
    "\n",
    "data.rename(inplace=True, columns=rename)"
   ]
  },
  {
   "cell_type": "code",
   "execution_count": 75,
   "id": "b4b1268f",
   "metadata": {},
   "outputs": [
    {
     "data": {
      "text/html": [
       "<div>\n",
       "<style scoped>\n",
       "    .dataframe tbody tr th:only-of-type {\n",
       "        vertical-align: middle;\n",
       "    }\n",
       "\n",
       "    .dataframe tbody tr th {\n",
       "        vertical-align: top;\n",
       "    }\n",
       "\n",
       "    .dataframe thead th {\n",
       "        text-align: right;\n",
       "    }\n",
       "</style>\n",
       "<table border=\"1\" class=\"dataframe\">\n",
       "  <thead>\n",
       "    <tr style=\"text-align: right;\">\n",
       "      <th></th>\n",
       "      <th>conta_total</th>\n",
       "      <th>gorjeta</th>\n",
       "      <th>sobremesa</th>\n",
       "      <th>dia</th>\n",
       "      <th>horario</th>\n",
       "      <th>clientes</th>\n",
       "    </tr>\n",
       "  </thead>\n",
       "  <tbody>\n",
       "    <tr>\n",
       "      <th>0</th>\n",
       "      <td>16.99</td>\n",
       "      <td>1.01</td>\n",
       "      <td>No</td>\n",
       "      <td>Sun</td>\n",
       "      <td>Dinner</td>\n",
       "      <td>2</td>\n",
       "    </tr>\n",
       "    <tr>\n",
       "      <th>1</th>\n",
       "      <td>10.34</td>\n",
       "      <td>1.66</td>\n",
       "      <td>No</td>\n",
       "      <td>Sun</td>\n",
       "      <td>Dinner</td>\n",
       "      <td>3</td>\n",
       "    </tr>\n",
       "    <tr>\n",
       "      <th>2</th>\n",
       "      <td>21.01</td>\n",
       "      <td>3.50</td>\n",
       "      <td>No</td>\n",
       "      <td>Sun</td>\n",
       "      <td>Dinner</td>\n",
       "      <td>3</td>\n",
       "    </tr>\n",
       "    <tr>\n",
       "      <th>3</th>\n",
       "      <td>23.68</td>\n",
       "      <td>3.31</td>\n",
       "      <td>No</td>\n",
       "      <td>Sun</td>\n",
       "      <td>Dinner</td>\n",
       "      <td>2</td>\n",
       "    </tr>\n",
       "    <tr>\n",
       "      <th>4</th>\n",
       "      <td>24.59</td>\n",
       "      <td>3.61</td>\n",
       "      <td>No</td>\n",
       "      <td>Sun</td>\n",
       "      <td>Dinner</td>\n",
       "      <td>4</td>\n",
       "    </tr>\n",
       "  </tbody>\n",
       "</table>\n",
       "</div>"
      ],
      "text/plain": [
       "   conta_total  gorjeta sobremesa  dia horario  clientes\n",
       "0        16.99     1.01        No  Sun  Dinner         2\n",
       "1        10.34     1.66        No  Sun  Dinner         3\n",
       "2        21.01     3.50        No  Sun  Dinner         3\n",
       "3        23.68     3.31        No  Sun  Dinner         2\n",
       "4        24.59     3.61        No  Sun  Dinner         4"
      ]
     },
     "execution_count": 75,
     "metadata": {},
     "output_type": "execute_result"
    }
   ],
   "source": [
    "data.head()"
   ]
  },
  {
   "cell_type": "markdown",
   "id": "608bd6ee",
   "metadata": {},
   "source": [
    "## Transformando os dados sobremesa em verdadeiramente booleanos"
   ]
  },
  {
   "cell_type": "code",
   "execution_count": 76,
   "id": "171a8ebd",
   "metadata": {},
   "outputs": [],
   "source": [
    "data['sobremesa'] == 'Yes'\n",
    "data.sobremesa = data['sobremesa'] == 'Yes' "
   ]
  },
  {
   "cell_type": "code",
   "execution_count": 77,
   "id": "2c322243",
   "metadata": {},
   "outputs": [],
   "source": [
    "data.dia.unique()\n",
    "sup= {\n",
    "    'Sun': 'Domingo',\n",
    "    'Sat': 'Sábado',\n",
    "    'Thur': 'Quinta',\n",
    "    'Fri': 'Sexta'\n",
    "}\n",
    "data.dia= data.dia.map(sup) "
   ]
  },
  {
   "cell_type": "code",
   "execution_count": 81,
   "id": "ba1c1e1d",
   "metadata": {},
   "outputs": [],
   "source": [
    "data.horario.unique()\n",
    "sup= {\n",
    "    'Dinner':'Janta',\n",
    "    'Lunch':'Almoço'\n",
    "}\n",
    "data.horario=data.horario.map(sup)"
   ]
  },
  {
   "cell_type": "code",
   "execution_count": 82,
   "id": "a950d443",
   "metadata": {},
   "outputs": [
    {
     "data": {
      "text/html": [
       "<div>\n",
       "<style scoped>\n",
       "    .dataframe tbody tr th:only-of-type {\n",
       "        vertical-align: middle;\n",
       "    }\n",
       "\n",
       "    .dataframe tbody tr th {\n",
       "        vertical-align: top;\n",
       "    }\n",
       "\n",
       "    .dataframe thead th {\n",
       "        text-align: right;\n",
       "    }\n",
       "</style>\n",
       "<table border=\"1\" class=\"dataframe\">\n",
       "  <thead>\n",
       "    <tr style=\"text-align: right;\">\n",
       "      <th></th>\n",
       "      <th>conta_total</th>\n",
       "      <th>gorjeta</th>\n",
       "      <th>sobremesa</th>\n",
       "      <th>dia</th>\n",
       "      <th>horario</th>\n",
       "      <th>clientes</th>\n",
       "    </tr>\n",
       "  </thead>\n",
       "  <tbody>\n",
       "    <tr>\n",
       "      <th>0</th>\n",
       "      <td>16.99</td>\n",
       "      <td>1.01</td>\n",
       "      <td>False</td>\n",
       "      <td>Domingo</td>\n",
       "      <td>Janta</td>\n",
       "      <td>2</td>\n",
       "    </tr>\n",
       "    <tr>\n",
       "      <th>1</th>\n",
       "      <td>10.34</td>\n",
       "      <td>1.66</td>\n",
       "      <td>False</td>\n",
       "      <td>Domingo</td>\n",
       "      <td>Janta</td>\n",
       "      <td>3</td>\n",
       "    </tr>\n",
       "    <tr>\n",
       "      <th>2</th>\n",
       "      <td>21.01</td>\n",
       "      <td>3.50</td>\n",
       "      <td>False</td>\n",
       "      <td>Domingo</td>\n",
       "      <td>Janta</td>\n",
       "      <td>3</td>\n",
       "    </tr>\n",
       "    <tr>\n",
       "      <th>3</th>\n",
       "      <td>23.68</td>\n",
       "      <td>3.31</td>\n",
       "      <td>False</td>\n",
       "      <td>Domingo</td>\n",
       "      <td>Janta</td>\n",
       "      <td>2</td>\n",
       "    </tr>\n",
       "    <tr>\n",
       "      <th>4</th>\n",
       "      <td>24.59</td>\n",
       "      <td>3.61</td>\n",
       "      <td>False</td>\n",
       "      <td>Domingo</td>\n",
       "      <td>Janta</td>\n",
       "      <td>4</td>\n",
       "    </tr>\n",
       "    <tr>\n",
       "      <th>...</th>\n",
       "      <td>...</td>\n",
       "      <td>...</td>\n",
       "      <td>...</td>\n",
       "      <td>...</td>\n",
       "      <td>...</td>\n",
       "      <td>...</td>\n",
       "    </tr>\n",
       "    <tr>\n",
       "      <th>239</th>\n",
       "      <td>29.03</td>\n",
       "      <td>5.92</td>\n",
       "      <td>False</td>\n",
       "      <td>Sábado</td>\n",
       "      <td>Janta</td>\n",
       "      <td>3</td>\n",
       "    </tr>\n",
       "    <tr>\n",
       "      <th>240</th>\n",
       "      <td>27.18</td>\n",
       "      <td>2.00</td>\n",
       "      <td>True</td>\n",
       "      <td>Sábado</td>\n",
       "      <td>Janta</td>\n",
       "      <td>2</td>\n",
       "    </tr>\n",
       "    <tr>\n",
       "      <th>241</th>\n",
       "      <td>22.67</td>\n",
       "      <td>2.00</td>\n",
       "      <td>True</td>\n",
       "      <td>Sábado</td>\n",
       "      <td>Janta</td>\n",
       "      <td>2</td>\n",
       "    </tr>\n",
       "    <tr>\n",
       "      <th>242</th>\n",
       "      <td>17.82</td>\n",
       "      <td>1.75</td>\n",
       "      <td>False</td>\n",
       "      <td>Sábado</td>\n",
       "      <td>Janta</td>\n",
       "      <td>2</td>\n",
       "    </tr>\n",
       "    <tr>\n",
       "      <th>243</th>\n",
       "      <td>18.78</td>\n",
       "      <td>3.00</td>\n",
       "      <td>False</td>\n",
       "      <td>Quinta</td>\n",
       "      <td>Janta</td>\n",
       "      <td>2</td>\n",
       "    </tr>\n",
       "  </tbody>\n",
       "</table>\n",
       "<p>244 rows × 6 columns</p>\n",
       "</div>"
      ],
      "text/plain": [
       "     conta_total  gorjeta  sobremesa      dia horario  clientes\n",
       "0          16.99     1.01      False  Domingo   Janta         2\n",
       "1          10.34     1.66      False  Domingo   Janta         3\n",
       "2          21.01     3.50      False  Domingo   Janta         3\n",
       "3          23.68     3.31      False  Domingo   Janta         2\n",
       "4          24.59     3.61      False  Domingo   Janta         4\n",
       "..           ...      ...        ...      ...     ...       ...\n",
       "239        29.03     5.92      False   Sábado   Janta         3\n",
       "240        27.18     2.00       True   Sábado   Janta         2\n",
       "241        22.67     2.00       True   Sábado   Janta         2\n",
       "242        17.82     1.75      False   Sábado   Janta         2\n",
       "243        18.78     3.00      False   Quinta   Janta         2\n",
       "\n",
       "[244 rows x 6 columns]"
      ]
     },
     "execution_count": 82,
     "metadata": {},
     "output_type": "execute_result"
    }
   ],
   "source": [
    "data"
   ]
  },
  {
   "cell_type": "markdown",
   "id": "0b886feb",
   "metadata": {},
   "source": [
    "# Análise I -> Valor da conta e gorjeta"
   ]
  },
  {
   "cell_type": "code",
   "execution_count": 90,
   "id": "8a1e1005",
   "metadata": {},
   "outputs": [
    {
     "data": {
      "image/png": "[encoded data removed]",
      "text/plain": [
       "<Figure size 432x288 with 1 Axes>"
      ]
     },
     "metadata": {
      "needs_background": "light"
     },
     "output_type": "display_data"
    }
   ],
   "source": [
    "graf_valor_gorjeta=sns.scatterplot(x='conta_total', y='gorjeta', data=data)"
   ]
  },
  {
   "cell_type": "markdown",
   "id": "b5093537",
   "metadata": {},
   "source": [
    "**Visualmente, o valor da gorjeta aumenta conforme aumenta o valor da conta**"
   ]
  },
  {
   "cell_type": "code",
   "execution_count": 98,
   "id": "4fe860b3",
   "metadata": {},
   "outputs": [
    {
     "name": "stdout",
     "output_type": "stream",
     "text": [
      "A base de dados contém 244 registros \n",
      "\n",
      "Registros não nulos:\n"
     ]
    },
    {
     "data": {
      "text/plain": [
       "conta_total    244\n",
       "gorjeta        244\n",
       "sobremesa      244\n",
       "dia            244\n",
       "horario        244\n",
       "clientes       244\n",
       "dtype: int64"
      ]
     },
     "execution_count": 98,
     "metadata": {},
     "output_type": "execute_result"
    }
   ],
   "source": [
    "print('A base de dados contém {} registros \\n'.format(data.shape[0]))\n",
    "print('Registros não nulos:')\n",
    "data.count()"
   ]
  },
  {
   "cell_type": "code",
   "execution_count": null,
   "id": "52e8dc7d",
   "metadata": {},
   "outputs": [],
   "source": []
  }
 ],
 "metadata": {
  "kernelspec": {
   "display_name": "Python 3 (ipykernel)",
   "language": "python",
   "name": "python3"
  },
  "language_info": {
   "codemirror_mode": {
    "name": "ipython",
    "version": 3
   },
   "file_extension": ".py",
   "mimetype": "text/x-python",
   "name": "python",
   "nbconvert_exporter": "python",
   "pygments_lexer": "ipython3",
   "version": "3.6.13"
  }
 },
 "nbformat": 4,
 "nbformat_minor": 5
}
