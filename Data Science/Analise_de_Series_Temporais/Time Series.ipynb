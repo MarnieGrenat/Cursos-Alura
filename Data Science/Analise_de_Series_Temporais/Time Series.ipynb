{
 "cells": [
  {
   "cell_type": "code",
   "execution_count": 26,
   "id": "f5438bd1",
   "metadata": {},
   "outputs": [],
   "source": [
    "import pandas as pd\n",
    "\n",
    "import seaborn as sns\n",
    "%matplotlib inline\n",
    "from matplotlib import pyplot as plt "
   ]
  },
  {
   "cell_type": "markdown",
   "id": "c2adbc8b",
   "metadata": {},
   "source": [
    "# Alucar - Analisando as vendas"
   ]
  },
  {
   "cell_type": "code",
   "execution_count": 47,
   "id": "2a3e6433",
   "metadata": {},
   "outputs": [
    {
     "data": {
      "text/html": [
       "<div>\n",
       "<style scoped>\n",
       "    .dataframe tbody tr th:only-of-type {\n",
       "        vertical-align: middle;\n",
       "    }\n",
       "\n",
       "    .dataframe tbody tr th {\n",
       "        vertical-align: top;\n",
       "    }\n",
       "\n",
       "    .dataframe thead th {\n",
       "        text-align: right;\n",
       "    }\n",
       "</style>\n",
       "<table border=\"1\" class=\"dataframe\">\n",
       "  <thead>\n",
       "    <tr style=\"text-align: right;\">\n",
       "      <th></th>\n",
       "      <th>mes</th>\n",
       "      <th>vendas</th>\n",
       "    </tr>\n",
       "  </thead>\n",
       "  <tbody>\n",
       "    <tr>\n",
       "      <th>0</th>\n",
       "      <td>2017-01-31</td>\n",
       "      <td>10</td>\n",
       "    </tr>\n",
       "    <tr>\n",
       "      <th>1</th>\n",
       "      <td>2017-02-28</td>\n",
       "      <td>20</td>\n",
       "    </tr>\n",
       "    <tr>\n",
       "      <th>2</th>\n",
       "      <td>2017-03-31</td>\n",
       "      <td>33</td>\n",
       "    </tr>\n",
       "    <tr>\n",
       "      <th>3</th>\n",
       "      <td>2017-04-30</td>\n",
       "      <td>47</td>\n",
       "    </tr>\n",
       "    <tr>\n",
       "      <th>4</th>\n",
       "      <td>2017-05-31</td>\n",
       "      <td>63</td>\n",
       "    </tr>\n",
       "  </tbody>\n",
       "</table>\n",
       "</div>"
      ],
      "text/plain": [
       "          mes  vendas\n",
       "0  2017-01-31      10\n",
       "1  2017-02-28      20\n",
       "2  2017-03-31      33\n",
       "3  2017-04-30      47\n",
       "4  2017-05-31      63"
      ]
     },
     "execution_count": 47,
     "metadata": {},
     "output_type": "execute_result"
    }
   ],
   "source": [
    "alucar=pd.read_csv('dados/alucar.csv') \n",
    "alucar.head()"
   ]
  },
  {
   "cell_type": "markdown",
   "id": "ce47d06c",
   "metadata": {},
   "source": [
    "### Time Series são coleções de dados em relação ao tempo"
   ]
  },
  {
   "cell_type": "code",
   "execution_count": 18,
   "id": "2ef7f16a",
   "metadata": {},
   "outputs": [
    {
     "name": "stdout",
     "output_type": "stream",
     "text": [
      "Quantidade de linhas e colunas: (24, 2)\n",
      "Quantidade de dados nulos: 0\n",
      "Tipos de Dados:\n",
      " mes       object\n",
      "vendas     int64\n",
      "dtype: object\n"
     ]
    }
   ],
   "source": [
    "print('Quantidade de linhas e colunas:', alucar.shape)\n",
    "print('Quantidade de dados nulos:', alucar.isna().sum().sum())\n",
    "print('Tipos de Dados:\\n', alucar.dtypes)"
   ]
  },
  {
   "cell_type": "code",
   "execution_count": 21,
   "id": "704db07e",
   "metadata": {},
   "outputs": [
    {
     "data": {
      "text/plain": [
       "mes       datetime64[ns]\n",
       "vendas             int64\n",
       "dtype: object"
      ]
     },
     "execution_count": 21,
     "metadata": {},
     "output_type": "execute_result"
    }
   ],
   "source": [
    "# Modificar mes para datetime\n",
    "alucar['mes']= pd.to_datetime(alucar['mes'])\n",
    "alucar.dtypes"
   ]
  },
  {
   "cell_type": "code",
   "execution_count": 46,
   "id": "5e78bbe3",
   "metadata": {},
   "outputs": [
    {
     "data": {
      "image/png": "[encoded data removed]",
      "text/plain": [
       "<Figure size 864x432 with 1 Axes>"
      ]
     },
     "metadata": {},
     "output_type": "display_data"
    }
   ],
   "source": [
    "# STYLE GUIDE: https://urbaninstitute.github.io/graphics-styleguide/\n",
    "sns.set_palette('Accent')\n",
    "sns.set_style('darkgrid')\n",
    "alucar_line=sns.lineplot(x='mes', y='vendas', data=alucar)\n",
    "alucar_line.figure.set_size_inches(12,6)\n",
    "alucar_line.set_title('Vendas Alucar de 2017 e 2018', loc='left', fontsize=18)\n",
    "alucar_line.set_xlabel('Meses', fontsize=14)\n",
    "alucar_line.set_ylabel('Vendas (R$)', fontsize=14)\n",
    "alucar_line=alucar_line"
   ]
  },
  {
   "cell_type": "code",
   "execution_count": null,
   "id": "641e771b",
   "metadata": {},
   "outputs": [],
   "source": []
  }
 ],
 "metadata": {
  "kernelspec": {
   "display_name": "Python 3 (ipykernel)",
   "language": "python",
   "name": "python3"
  },
  "language_info": {
   "codemirror_mode": {
    "name": "ipython",
    "version": 3
   },
   "file_extension": ".py",
   "mimetype": "text/x-python",
   "name": "python",
   "nbconvert_exporter": "python",
   "pygments_lexer": "ipython3",
   "version": "3.6.13"
  }
 },
 "nbformat": 4,
 "nbformat_minor": 5
}
